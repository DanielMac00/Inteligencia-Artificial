{
  "nbformat": 4,
  "nbformat_minor": 0,
  "metadata": {
    "colab": {
      "provenance": [],
      "authorship_tag": "ABX9TyObmwZ+YhYASi+7BmEBDcvG",
      "include_colab_link": true
    },
    "kernelspec": {
      "name": "python3",
      "display_name": "Python 3"
    },
    "language_info": {
      "name": "python"
    }
  },
  "cells": [
    {
      "cell_type": "markdown",
      "metadata": {
        "id": "view-in-github",
        "colab_type": "text"
      },
      "source": [
        "<a href=\"https://colab.research.google.com/github/DanielMac00/Inteligencia-Artificial/blob/main/McCullockPitts%20.ipynb\" target=\"_parent\"><img src=\"https://colab.research.google.com/assets/colab-badge.svg\" alt=\"Open In Colab\"/></a>"
      ]
    },
    {
      "cell_type": "code",
      "execution_count": null,
      "metadata": {
        "id": "QyZYNrgo7zL5"
      },
      "outputs": [],
      "source": [
        "# Ejemplo de operación OR con una neurona\n",
        "\n",
        "import numpy as np\n",
        "\n",
        "# Datos de entrada (X1, X2)\n",
        "entradas = np.array([\n",
        "    [0, 0],\n",
        "    [0, 1],\n",
        "    [1, 0],\n",
        "    [1, 1]\n",
        "])\n",
        "\n",
        "# Pesos y sesgo (bias)\n",
        "pesos = np.array([1, 1])\n",
        "bias = 0\n",
        "\n",
        "def funcion_activacion(x):\n",
        "    # Función escalón: activa si la suma >= 1\n",
        "    return 1 if x >= 1 else 0\n",
        "\n",
        "# Salida de la neurona\n",
        "print(\"Operación OR con una neurona:\")\n",
        "for x in entradas:\n",
        "    suma = np.dot(x, pesos) + bias\n",
        "    salida = funcion_activacion(suma)\n",
        "    print(f\"{x} => {salida}\")\n"
      ]
    },
    {
      "cell_type": "markdown",
      "source": [
        "En este ejemplo, la neurona recibe dos entradas (X1 y X2) y las multiplica por un peso de 1. Luego las suma.\n",
        "Si el resultado es mayor o igual que 1, la neurona se activa (da 1).\n",
        "Esto simula el comportamiento del operador OR, porque la salida es 1 cuando al menos una entrada es 1."
      ],
      "metadata": {
        "id": "PDxH8jE975XL"
      }
    },
    {
      "cell_type": "code",
      "source": [
        "# Ejemplo de operación NOT con una neurona\n",
        "\n",
        "import numpy as np\n",
        "\n",
        "# Entrada (solo un valor)\n",
        "entradas = np.array([0, 1])\n",
        "\n",
        "# Peso negativo y sesgo positivo para invertir la señal\n",
        "peso = -1\n",
        "bias = 0.5\n",
        "\n",
        "def funcion_activacion(x):\n",
        "    return 1 if x >= 0 else 0\n",
        "\n",
        "print(\"Operación NOT con una neurona:\")\n",
        "for x in entradas:\n",
        "    suma = (x * peso) + bias\n",
        "    salida = funcion_activacion(suma)\n",
        "    print(f\"{x} => {salida}\")\n"
      ],
      "metadata": {
        "id": "EQyPReU08Hsq"
      },
      "execution_count": null,
      "outputs": []
    },
    {
      "cell_type": "markdown",
      "source": [
        "Aquí la neurona recibe una sola entrada. Como el peso es negativo, cuando entra un 1, el resultado se vuelve negativo y la neurona no se activa (da 0).\n",
        "En cambio, si entra un 0, la suma queda positiva y la neurona se activa (da 1).\n",
        "De esta forma, la neurona reproduce el comportamiento del operador NOT."
      ],
      "metadata": {
        "id": "wt1RL-hp8Lsh"
      }
    }
  ]
}