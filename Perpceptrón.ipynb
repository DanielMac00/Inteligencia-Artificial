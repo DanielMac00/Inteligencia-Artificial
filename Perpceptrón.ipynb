{
  "nbformat": 4,
  "nbformat_minor": 0,
  "metadata": {
    "colab": {
      "provenance": [],
      "authorship_tag": "ABX9TyPdzMU4RGrXSX3LQtyxjUJ3",
      "include_colab_link": true
    },
    "kernelspec": {
      "name": "python3",
      "display_name": "Python 3"
    },
    "language_info": {
      "name": "python"
    }
  },
  "cells": [
    {
      "cell_type": "markdown",
      "metadata": {
        "id": "view-in-github",
        "colab_type": "text"
      },
      "source": [
        "<a href=\"https://colab.research.google.com/github/DanielMac00/Inteligencia-Artificial/blob/main/Perpceptr%C3%B3n.ipynb\" target=\"_parent\"><img src=\"https://colab.research.google.com/assets/colab-badge.svg\" alt=\"Open In Colab\"/></a>"
      ]
    },
    {
      "cell_type": "code",
      "execution_count": null,
      "metadata": {
        "id": "C9OpHLayGHWn"
      },
      "outputs": [],
      "source": [
        "# Ejemplo de una neurona que realiza la operación lógica OR\n",
        "\n",
        "import numpy as np\n",
        "\n",
        "# Entradas posibles para OR\n",
        "entradas = np.array([\n",
        "    [0, 0],\n",
        "    [0, 1],\n",
        "    [1, 0],\n",
        "    [1, 1]\n",
        "])\n",
        "\n",
        "# Salidas esperadas para OR\n",
        "salidas = np.array([0, 1, 1, 1])\n",
        "\n",
        "# Pesos iniciales (valores al azar)\n",
        "pesos = np.random.rand(2)\n",
        "sesgo = np.random.rand(1)\n",
        "\n",
        "# Tasa de aprendizaje\n",
        "alpha = 0.1\n",
        "\n",
        "# Entrenamiento de la neurona\n",
        "for epoch in range(10):\n",
        "    for i in range(len(entradas)):\n",
        "        # Calcular salida\n",
        "        z = np.dot(entradas[i], pesos) + sesgo\n",
        "        salida_pred = 1 if z >= 0.5 else 0\n",
        "\n",
        "        # Calcular error\n",
        "        error = salidas[i] - salida_pred\n",
        "\n",
        "        # Actualizar pesos y sesgo\n",
        "        pesos += alpha * error * entradas[i]\n",
        "        sesgo += alpha * error\n",
        "\n",
        "print(\"Pesos finales:\", pesos)\n",
        "print(\"Sesgo final:\", sesgo)\n",
        "\n",
        "# Pruebas\n",
        "for i in range(len(entradas)):\n",
        "    z = np.dot(entradas[i], pesos) + sesgo\n",
        "    salida_pred = 1 if z >= 0.5 else 0\n",
        "    print(f\"Entrada: {entradas[i]} → Salida predicha: {salida_pred}\")\n"
      ]
    },
    {
      "cell_type": "markdown",
      "source": [
        "En este ejemplo la neurona aprende la operación lógica OR.\n",
        "Las entradas son combinaciones de 0 y 1, y la salida es 1 si al menos una entrada es 1.\n",
        "La neurona ajusta sus pesos y sesgo para que su salida se acerque a la esperada.\n",
        "Al final, logra predecir correctamente los valores de la tabla OR."
      ],
      "metadata": {
        "id": "8DWO3FxQGfn1"
      }
    },
    {
      "cell_type": "code",
      "source": [
        "# Ejemplo de una neurona que realiza la operación lógica NOT\n",
        "\n",
        "import numpy as np\n",
        "\n",
        "# Entradas posibles para NOT (solo una entrada)\n",
        "entradas = np.array([[0], [1]])\n",
        "\n",
        "# Salidas esperadas para NOT (invierte el valor)\n",
        "salidas = np.array([1, 0])\n",
        "\n",
        "# Pesos y sesgo iniciales\n",
        "peso = np.random.rand(1)\n",
        "sesgo = np.random.rand(1)\n",
        "\n",
        "# Tasa de aprendizaje\n",
        "alpha = 0.1\n",
        "\n",
        "# Entrenamiento\n",
        "for epoch in range(10):\n",
        "    for i in range(len(entradas)):\n",
        "        z = np.dot(entradas[i], peso) + sesgo\n",
        "        salida_pred = 1 if z >= 0.5 else 0\n",
        "\n",
        "        error = salidas[i] - salida_pred\n",
        "\n",
        "        peso += alpha * error * entradas[i]\n",
        "        sesgo += alpha * error\n",
        "\n",
        "print(\"Peso final:\", peso)\n",
        "print(\"Sesgo final:\", sesgo)\n",
        "\n",
        "# Pruebas\n",
        "for i in range(len(entradas)):\n",
        "    z = np.dot(entradas[i], peso) + sesgo\n",
        "    salida_pred = 1 if z >= 0.5 else 0\n",
        "    print(f\"Entrada: {entradas[i][0]} → Salida predicha: {salida_pred}\")\n"
      ],
      "metadata": {
        "id": "X_ZSqzY3GlhY"
      },
      "execution_count": null,
      "outputs": []
    },
    {
      "cell_type": "markdown",
      "source": [
        "En este caso la neurona aprende la operación lógica NOT.\n",
        "Cuando la entrada es 0, la salida debe ser 1; y cuando la entrada es 1, la salida debe ser 0.\n",
        "Durante el entrenamiento, la neurona ajusta su peso y sesgo para invertir correctamente la señal de entrada.\n"
      ],
      "metadata": {
        "id": "BAHoN77EG3WF"
      }
    },
    {
      "cell_type": "code",
      "source": [],
      "metadata": {
        "id": "E1ZPyYdzG6va"
      },
      "execution_count": null,
      "outputs": []
    }
  ]
}